{
 "cells": [
  {
   "cell_type": "code",
   "execution_count": 20,
   "metadata": {},
   "outputs": [],
   "source": [
    "import tensorflow as tf\n",
    "import numpy as np\n",
    "\n",
    "x1 = [73., 93., 89., 96., 73.]\n",
    "x2 = [80., 88., 91., 98., 66.]\n",
    "x3 = [75., 93., 90., 100., 70.]\n",
    "Y = [152., 185., 180., 196., 142.]\n",
    "\n",
    "#초기값으로는 아무값도 줘도 되는데 보통 랜덤값을 준다\n",
    "w1 = tf.Variable(tf.random.normal([1]))\n",
    "w2 = tf.Variable(tf.random.normal([1]))\n",
    "w3 = tf.Variable(tf.random.normal([1]))\n",
    "b = tf.Variable(tf.random.normal([1]))\n",
    "\n",
    "learning_rate = 0.000001"
   ]
  },
  {
   "cell_type": "code",
   "execution_count": 22,
   "metadata": {},
   "outputs": [
    {
     "name": "stdout",
     "output_type": "stream",
     "text": [
      "    0 |    5760.2432\n",
      "   50 |      77.0175\n",
      "  100 |      15.3524\n",
      "  150 |      14.8084\n",
      "  200 |      14.8170\n",
      "  250 |      14.8187\n",
      "  300 |      14.8188\n",
      "  350 |      14.8188\n",
      "  400 |      14.8188\n",
      "  450 |      14.8188\n",
      "  500 |      14.8188\n",
      "  550 |      14.8188\n",
      "  600 |      14.8188\n",
      "  650 |      14.8188\n",
      "  700 |      14.8188\n",
      "  750 |      14.8188\n",
      "  800 |      14.8188\n",
      "  850 |      14.8188\n",
      "  900 |      14.8188\n",
      "  950 |      14.8188\n",
      " 1000 |      14.8188\n"
     ]
    }
   ],
   "source": [
    "#경사 하강을 통해 weight값을 계속해서 업데이트 해줌\n",
    "for i in range(1000+1):\n",
    "    with tf.GradientTape() as tape:\n",
    "        hypothesis = w1*x1 + w2*x2 + w3*x3 + b\n",
    "        cost = tf.reduce_mean(tf.square(hypothesis - Y))\n",
    "    w1_grad, w2_grad, w3_grad, b_grad = tape.gradient(cost, [w1, w2, w3, b])\n",
    "    \n",
    "    w1.assign_sub(learning_rate * w1_grad)\n",
    "    w1.assign_sub(learning_rate * w2_grad)\n",
    "    w1.assign_sub(learning_rate * w3_grad)\n",
    "    w1.assign_sub(learning_rate * b_grad)\n",
    "    \n",
    "    if i%50 == 0:\n",
    "        print(\"{:5} | {:12.4f}\".format(i, cost.numpy()))"
   ]
  },
  {
   "cell_type": "code",
   "execution_count": null,
   "metadata": {},
   "outputs": [],
   "source": []
  }
 ],
 "metadata": {
  "kernelspec": {
   "display_name": "Python 3",
   "language": "python",
   "name": "python3"
  },
  "language_info": {
   "codemirror_mode": {
    "name": "ipython",
    "version": 3
   },
   "file_extension": ".py",
   "mimetype": "text/x-python",
   "name": "python",
   "nbconvert_exporter": "python",
   "pygments_lexer": "ipython3",
   "version": "3.7.3"
  }
 },
 "nbformat": 4,
 "nbformat_minor": 2
}
