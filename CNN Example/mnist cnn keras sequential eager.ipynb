{
 "cells": [
  {
   "cell_type": "markdown",
   "metadata": {},
   "source": [
    "# 1. Set Hyper Parameters"
   ]
  },
  {
   "cell_type": "code",
   "execution_count": 38,
   "metadata": {},
   "outputs": [],
   "source": [
    "import tensorflow as tf\n",
    "from tensorflow import keras\n",
    "from tensorflow.keras.utils import to_categorical\n",
    "import numpy as np\n",
    "import matplotlib.pyplot as plt\n",
    "import os"
   ]
  },
  {
   "cell_type": "code",
   "execution_count": 39,
   "metadata": {},
   "outputs": [],
   "source": [
    "learning_rate = 0.001\n",
    "training_epochs = 15    #15epochs동안 학습함\n",
    "batch_size = 100\n",
    "\n",
    "#체크포인트를 저장할 디렉토리를 설정하는 부분\n",
    "cur_dir = os.getcwd()\n",
    "ckpt_dir_name = 'checkpoints'\n",
    "model_dir_name = 'minst_cnn_seq'\n",
    "\n",
    "checkpoint_dir = os.path.join(cur_dir, ckpt_dir_name, model_dir_name)\n",
    "os.makedirs(checkpoint_dir, exist_ok = True)\n",
    "\n",
    "checkpoint_prefix = os.path.join(checkpoint_dir, model_dir_name)"
   ]
  },
  {
   "cell_type": "markdown",
   "metadata": {},
   "source": [
    "# 2. Make a Data Pipelining"
   ]
  },
  {
   "cell_type": "code",
   "execution_count": 40,
   "metadata": {},
   "outputs": [],
   "source": [
    "mnist = keras. datasets.mnist\n",
    "(train_images, train_labels), (test_images, test_labels) = mnist.load_data()\n",
    "\n",
    "#train과 test image는 255로 나누어서 0~1 값으로 스케일링 해줌\n",
    "train_images = train_images.astype(np.float32) / 255.\n",
    "test_images = test_images.astype(np.float32) / 255.\n",
    "\n",
    "#train_image에 (60000, 28, 28)로 배치, height, width 3개가 있는데\n",
    "#chanel이 빠져있다 따라서 axis = -1로 설정하여 마지막 차원에 차원을 하나 추가함\n",
    "train_images = np.expand_dims(train_images, axis= -1)\n",
    "test_images = np.expand_dims(test_images, axis= -1)\n",
    "\n",
    "train_labels = to_categorical(train_labels, 10)\n",
    "test_labels = to_categorical(test_labels, 10)\n",
    "\n",
    "#실제로 데이터를 짤라서 공급해주는 부분\n",
    "train_dataset = tf.data.Dataset.from_tensor_slices((train_images,\n",
    "            train_labels)).shuffle(buffer_size=100000).batch(batch_size)\n",
    "test_dataset = tf.data.Dataset.from_tensor_slices((test_images,\n",
    "            test_labels)).shuffle(buffer_size=100000).batch(batch_size)\n"
   ]
  },
  {
   "cell_type": "markdown",
   "metadata": {},
   "source": [
    "# 3. Build a Neural Network Model - Sequential API"
   ]
  },
  {
   "cell_type": "code",
   "execution_count": 41,
   "metadata": {},
   "outputs": [],
   "source": [
    "def create_model():\n",
    "    model = keras.Sequential()\n",
    "    #1번 째 레이어\n",
    "    model.add(keras.layers.Conv2D(filters=32, kernel_size = 3, activation=tf.nn.relu,\n",
    "                                 padding = 'SAME', input_shape=(28,28,1)))\n",
    "    model.add(keras.layers.MaxPool2D(padding='SAME'))  #MaxPool\n",
    "    #2번 째 레이어\n",
    "    model.add(keras.layers.Conv2D(filters=64, kernel_size=3, activation=tf.nn.relu,\n",
    "                                 padding='SAME'))\n",
    "    model.add(keras.layers.MaxPool2D(padding='SAME'))   #MaxPool\n",
    "    #3번 째 레이어\n",
    "    model.add(keras.layers.Conv2D(filters=128, kernel_size=3, activation=tf.nn.relu,\n",
    "                                 padding='SAME'))\n",
    "    model.add(keras.layers.MaxPool2D(padding='SAME'))   #MaxPool\n",
    "    \n",
    "    #앞에까지 나왔던 featuremap을 벡터로 펴줌\n",
    "    model.add(keras.layers.Flatten())\n",
    "    model.add(keras.layers.Dense(256, activation=tf.nn.relu))\n",
    "    #DenseLayout파라미터가 많기 때문에 Dropout을 적용함\n",
    "    model.add(keras.layers.Dropout(0.4))\n",
    "    model.add(keras.layers.Dense(10))\n",
    "    return model"
   ]
  },
  {
   "cell_type": "code",
   "execution_count": 42,
   "metadata": {},
   "outputs": [
    {
     "name": "stdout",
     "output_type": "stream",
     "text": [
      "Model: \"sequential_3\"\n",
      "_________________________________________________________________\n",
      "Layer (type)                 Output Shape              Param #   \n",
      "=================================================================\n",
      "conv2d_3 (Conv2D)            (None, 28, 28, 32)        320       \n",
      "_________________________________________________________________\n",
      "max_pooling2d_3 (MaxPooling2 (None, 14, 14, 32)        0         \n",
      "_________________________________________________________________\n",
      "conv2d_4 (Conv2D)            (None, 14, 14, 64)        18496     \n",
      "_________________________________________________________________\n",
      "max_pooling2d_4 (MaxPooling2 (None, 7, 7, 64)          0         \n",
      "_________________________________________________________________\n",
      "conv2d_5 (Conv2D)            (None, 7, 7, 128)         73856     \n",
      "_________________________________________________________________\n",
      "max_pooling2d_5 (MaxPooling2 (None, 4, 4, 128)         0         \n",
      "_________________________________________________________________\n",
      "flatten_1 (Flatten)          (None, 2048)              0         \n",
      "_________________________________________________________________\n",
      "dense_2 (Dense)              (None, 256)               524544    \n",
      "_________________________________________________________________\n",
      "dropout_1 (Dropout)          (None, 256)               0         \n",
      "_________________________________________________________________\n",
      "dense_3 (Dense)              (None, 10)                2570      \n",
      "=================================================================\n",
      "Total params: 619,786\n",
      "Trainable params: 619,786\n",
      "Non-trainable params: 0\n",
      "_________________________________________________________________\n"
     ]
    }
   ],
   "source": [
    "model = create_model()\n",
    "model.summary()"
   ]
  },
  {
   "cell_type": "markdown",
   "metadata": {},
   "source": [
    "# 4. Define a Loss Function\n",
    "# 5. Calculate a Gradient"
   ]
  },
  {
   "cell_type": "code",
   "execution_count": null,
   "metadata": {},
   "outputs": [],
   "source": [
    "def loss_fn(model, images, labels):\n",
    "    logits = model(images, training=True) #training=True로 하면 Dropout한부분이 적용 된다.\n",
    "    \n",
    "    loss = tf.reduce_mean(tf.nn.softmax_cross_entropy_with_logits(\n",
    "    labels=labels, logits=logits))\n",
    "    return loss\n",
    "\n",
    "def grad(model, images, labels):\n",
    "    with tf.GradientTape() as tape:\n",
    "        loss = loss_fn(model, images, labels)\n",
    "        #back proposition으로 테입을 거꾸로 감듯이 거꾸로 감으면서 gradient를 계산해 준다\n",
    "        return tape.gradient(loss, model.variables)"
   ]
  },
  {
   "cell_type": "markdown",
   "metadata": {},
   "source": [
    "# 6. Select an Optimizer\n",
    "# 7. Define a Metric for Model's Performance\n",
    "# 8. Make a Checkpoint for Saving"
   ]
  },
  {
   "cell_type": "code",
   "execution_count": null,
   "metadata": {},
   "outputs": [],
   "source": [
    "optimizer = tf.keras.optimizers.Adam(learning_rate=learning_rate)\n",
    "\n",
    "def evaluate(model, images, labels):\n",
    "    logits = model(images, training=False)  #training하는 단계가 아니기 때문에 False\n",
    "    #정답과 결과의 argmax를 비교해서 같으면 맞고 다르면 틀림\n",
    "    correct_prediction = tf.equal(tf.argmax(logits, 1), tf.argmax(labels, 1))\n",
    "    #위의 값의 평균을 구하면 accuracy가 나올 것임\n",
    "    accuracy = tf.reduce_mean(tf.cast(correct_prediction, tf.float32))\n",
    "    return accuracy\n",
    "\n",
    "checkpoint = tf.train.Checkpoint(cnn=model)"
   ]
  },
  {
   "cell_type": "markdown",
   "metadata": {},
   "source": [
    "# 9. Train and Validate a Neural Network Model"
   ]
  },
  {
   "cell_type": "code",
   "execution_count": null,
   "metadata": {},
   "outputs": [],
   "source": [
    "for epoch in range(training_epochs):\n",
    "    avg_loss=0.\n",
    "    avg_train_acc=0.\n",
    "    avg_test_acc=0.\n",
    "    train_step=0\n",
    "    test_step=0\n",
    "    \n",
    "    for images, labels in train_dataset:\n",
    "        #계산한 gradient랑 모델의 variables들을 넣어주고\n",
    "        #optimizer.apply를 사용하면 weight들이 업데이트가 된다\n",
    "        grads = grad(model, images, labels)\n",
    "        optimizer.apply_gradients(zip(grads, model.variables))\n",
    "        #-----여기까지만 해도 학습은 된다------#\n",
    "        \n",
    "        loss = loss_fn(model, images, labels)\n",
    "        acc = evaluate(model, images, labels)\n",
    "        avg_loss = avg_loss + loss\n",
    "        avg_train_acc = avg_train_acc + acc\n",
    "        train_step += 1\n",
    "    avg_loss = avg_loss / train_step\n",
    "    avg_train_acc = avg_train_acc / train_step"
   ]
  },
  {
   "cell_type": "code",
   "execution_count": null,
   "metadata": {},
   "outputs": [],
   "source": [
    "for images, labels in test_dataset:\n",
    "    acc = evaluate(model, images, labels)\n",
    "    avg_test_acc = avg_test_acc + acc\n",
    "    test_step += 1\n",
    "    avg_test_acc = avg_test_acc / test_step\n",
    "\n",
    "    print('Epoch: ', '{}'.format(epoch+1), 'loss =', '{:.8f}'.format(avg_loss),\n",
    "         'train accurancy = ', '{:.4f}'.format(avg_train_acc),\n",
    "         'test accurancy = ', '{:.4f}'.format(avg_test_acc))\n",
    "    #한 epoch이 끝날 때마다 체크포인트 설정\n",
    "    checkpoint.save(file_prefix=checkpoint_prefix)"
   ]
  },
  {
   "cell_type": "code",
   "execution_count": null,
   "metadata": {},
   "outputs": [],
   "source": []
  }
 ],
 "metadata": {
  "kernelspec": {
   "display_name": "Python 3",
   "language": "python",
   "name": "python3"
  },
  "language_info": {
   "codemirror_mode": {
    "name": "ipython",
    "version": 3
   },
   "file_extension": ".py",
   "mimetype": "text/x-python",
   "name": "python",
   "nbconvert_exporter": "python",
   "pygments_lexer": "ipython3",
   "version": "3.7.3"
  }
 },
 "nbformat": 4,
 "nbformat_minor": 2
}
