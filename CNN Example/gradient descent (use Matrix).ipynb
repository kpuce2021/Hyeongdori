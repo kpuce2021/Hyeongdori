{
 "cells": [
  {
   "cell_type": "markdown",
   "metadata": {},
   "source": [
    "# H(X) = XW"
   ]
  },
  {
   "cell_type": "code",
   "execution_count": null,
   "metadata": {},
   "outputs": [],
   "source": [
    "import tensorflow as tf\n",
    "import numpy as np"
   ]
  },
  {
   "cell_type": "code",
   "execution_count": 3,
   "metadata": {},
   "outputs": [],
   "source": [
    "data = np.array([\n",
    "    [73., 80., 75., 152.],\n",
    "    [93., 88., 93., 185.],\n",
    "    [89., 91., 90., 180.],\n",
    "    [96., 98., 100., 196.],\n",
    "    [73., 66., 70., 142.]\n",
    "], dtype=np.float32)"
   ]
  },
  {
   "cell_type": "code",
   "execution_count": 6,
   "metadata": {},
   "outputs": [],
   "source": [
    "x = data[:, :-1]\n",
    "y = data[:, [-1]]\n",
    "\n",
    "W = tf.Variable(tf.random.normal([3,1]))  #출력은 하나고 변수의 개수는 3개\n",
    "b = tf.Variable(tf.random.normal([1]))  \n",
    "\n",
    "learning_rate = 0.000001"
   ]
  },
  {
   "cell_type": "code",
   "execution_count": 7,
   "metadata": {},
   "outputs": [
    {
     "name": "stdout",
     "output_type": "stream",
     "text": [
      "    0 | 80380.1484\n",
      "  100 |    14.8615\n",
      "  200 |     4.9586\n",
      "  300 |     4.9532\n",
      "  400 |     4.9492\n",
      "  500 |     4.9451\n",
      "  600 |     4.9410\n",
      "  700 |     4.9369\n",
      "  800 |     4.9329\n",
      "  900 |     4.9289\n",
      " 1000 |     4.9248\n",
      " 1100 |     4.9208\n",
      " 1200 |     4.9168\n",
      " 1300 |     4.9128\n",
      " 1400 |     4.9088\n",
      " 1500 |     4.9048\n",
      " 1600 |     4.9009\n",
      " 1700 |     4.8969\n",
      " 1800 |     4.8930\n",
      " 1900 |     4.8891\n",
      " 2000 |     4.8852\n"
     ]
    }
   ],
   "source": [
    "def predict(x):\n",
    "    return tf.matmul(x,W) + b\n",
    "\n",
    "n_epochs = 2000\n",
    "for i in range(n_epochs+1):\n",
    "    with tf.GradientTape() as tape:\n",
    "        cost = tf.reduce_mean((tf.square(predict(x) - y)))\n",
    "        \n",
    "    W_grad, b_grad = tape.gradient(cost, [W,b])\n",
    "    \n",
    "    W.assign_sub(learning_rate * W_grad)\n",
    "    b.assign_sub(learning_rate * b)\n",
    "    \n",
    "    if i%100 == 0:\n",
    "        print(\"{:5} | {:10.4f}\".format(i, cost.numpy()))"
   ]
  },
  {
   "cell_type": "code",
   "execution_count": null,
   "metadata": {},
   "outputs": [],
   "source": []
  }
 ],
 "metadata": {
  "kernelspec": {
   "display_name": "Python 3",
   "language": "python",
   "name": "python3"
  },
  "language_info": {
   "codemirror_mode": {
    "name": "ipython",
    "version": 3
   },
   "file_extension": ".py",
   "mimetype": "text/x-python",
   "name": "python",
   "nbconvert_exporter": "python",
   "pygments_lexer": "ipython3",
   "version": "3.7.3"
  }
 },
 "nbformat": 4,
 "nbformat_minor": 2
}
